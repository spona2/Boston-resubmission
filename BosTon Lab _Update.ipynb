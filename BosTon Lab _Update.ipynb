{
 "metadata": {
  "name": "",
  "signature": "sha256:15608c0c7d2a851b36e566900cf085f0ec45813854e5698e2426b4d36f71f42b"
 },
 "nbformat": 3,
 "nbformat_minor": 0,
 "worksheets": [
  {
   "cells": [
    {
     "cell_type": "code",
     "collapsed": false,
     "input": [
      "#Manideep Maddipatla\n",
      "from sklearn import datasets\n",
      "import pandas as pd\n",
      "%pylab inline\n",
      "from sklearn.preprocessing import StandardScaler\n",
      "from sklearn.cross_validation import train_test_split\n",
      "from sklearn.metrics import mean_squared_error\n",
      "from sklearn.metrics import r2_score\n",
      "from sklearn.linear_model import LinearRegression\n",
      "from sklearn.linear_model import Lasso\n",
      "import numpy as np\n",
      "from matplotlib import pyplot as plt\n",
      "from IPython.display import display\n",
      "from sklearn.neighbors import KNeighborsRegressor\n",
      "\n",
      "%matplotlib inline "
     ],
     "language": "python",
     "metadata": {},
     "outputs": [
      {
       "output_type": "stream",
       "stream": "stdout",
       "text": [
        "Populating the interactive namespace from numpy and matplotlib\n"
       ]
      },
      {
       "output_type": "stream",
       "stream": "stderr",
       "text": [
        "WARNING: pylab import has clobbered these variables: ['clf']\n",
        "`%matplotlib` prevents importing * from pylab and numpy\n"
       ]
      }
     ],
     "prompt_number": 164
    },
    {
     "cell_type": "code",
     "collapsed": false,
     "input": [
      "#Getting Boston Dataset/ Manideep Maddipatla\n",
      "from sklearn.datasets import load_boston\n",
      "boston = datasets.load_boston()\n",
      "print boston.DESCR"
     ],
     "language": "python",
     "metadata": {},
     "outputs": [
      {
       "output_type": "stream",
       "stream": "stdout",
       "text": [
        "Boston House Prices dataset\n",
        "\n",
        "Notes\n",
        "------\n",
        "Data Set Characteristics:  \n",
        "\n",
        "    :Number of Instances: 506 \n",
        "\n",
        "    :Number of Attributes: 13 numeric/categorical predictive\n",
        "    \n",
        "    :Median Value (attribute 14) is usually the target\n",
        "\n",
        "    :Attribute Information (in order):\n",
        "        - CRIM     per capita crime rate by town\n",
        "        - ZN       proportion of residential land zoned for lots over 25,000 sq.ft.\n",
        "        - INDUS    proportion of non-retail business acres per town\n",
        "        - CHAS     Charles River dummy variable (= 1 if tract bounds river; 0 otherwise)\n",
        "        - NOX      nitric oxides concentration (parts per 10 million)\n",
        "        - RM       average number of rooms per dwelling\n",
        "        - AGE      proportion of owner-occupied units built prior to 1940\n",
        "        - DIS      weighted distances to five Boston employment centres\n",
        "        - RAD      index of accessibility to radial highways\n",
        "        - TAX      full-value property-tax rate per $10,000\n",
        "        - PTRATIO  pupil-teacher ratio by town\n",
        "        - B        1000(Bk - 0.63)^2 where Bk is the proportion of blacks by town\n",
        "        - LSTAT    % lower status of the population\n",
        "        - MEDV     Median value of owner-occupied homes in $1000's\n",
        "\n",
        "    :Missing Attribute Values: None\n",
        "\n",
        "    :Creator: Harrison, D. and Rubinfeld, D.L.\n",
        "\n",
        "This is a copy of UCI ML housing dataset.\n",
        "http://archive.ics.uci.edu/ml/datasets/Housing\n",
        "\n",
        "\n",
        "This dataset was taken from the StatLib library which is maintained at Carnegie Mellon University.\n",
        "\n",
        "The Boston house-price data of Harrison, D. and Rubinfeld, D.L. 'Hedonic\n",
        "prices and the demand for clean air', J. Environ. Economics & Management,\n",
        "vol.5, 81-102, 1978.   Used in Belsley, Kuh & Welsch, 'Regression diagnostics\n",
        "...', Wiley, 1980.   N.B. Various transformations are used in the table on\n",
        "pages 244-261 of the latter.\n",
        "\n",
        "The Boston house-price data has been used in many machine learning papers that address regression\n",
        "problems.   \n",
        "     \n",
        "**References**\n",
        "\n",
        "   - Belsley, Kuh & Welsch, 'Regression diagnostics: Identifying Influential Data and Sources of Collinearity', Wiley, 1980. 244-261.\n",
        "   - Quinlan,R. (1993). Combining Instance-Based and Model-Based Learning. In Proceedings on the Tenth International Conference of Machine Learning, 236-243, University of Massachusetts, Amherst. Morgan Kaufmann.\n",
        "   - many more! (see http://archive.ics.uci.edu/ml/datasets/Housing)\n",
        "\n"
       ]
      }
     ],
     "prompt_number": 223
    },
    {
     "cell_type": "code",
     "collapsed": false,
     "input": [
      "# Manideep Maddipatla\n",
      "train_data, test_data, train_target, test_target = \\\n",
      "        train_test_split(boston.data, boston.target, train_size=.8)\n",
      "train_data.shape\n"
     ],
     "language": "python",
     "metadata": {},
     "outputs": [
      {
       "metadata": {},
       "output_type": "pyout",
       "prompt_number": 224,
       "text": [
        "(404, 13)"
       ]
      }
     ],
     "prompt_number": 224
    },
    {
     "cell_type": "code",
     "collapsed": false,
     "input": [
      "# Manideep Maddipatla\n",
      "from sklearn import datasets\n",
      "boston = datasets.load_boston()\n",
      "X = boston.data\n",
      "y = boston.target\n",
      "\n",
      "print X.shape\n",
      "print y.shape"
     ],
     "language": "python",
     "metadata": {},
     "outputs": [
      {
       "output_type": "stream",
       "stream": "stdout",
       "text": [
        "(506, 13)\n",
        "(506,)\n"
       ]
      }
     ],
     "prompt_number": 225
    },
    {
     "cell_type": "code",
     "collapsed": false,
     "input": [
      "#plotting X and Y values inthe graph# Manideep Maddipatla\n",
      "plt.hist(y, alpha=1.0)\n",
      "plt.show()"
     ],
     "language": "python",
     "metadata": {},
     "outputs": [
      {
       "metadata": {},
       "output_type": "display_data",
       "png": "[encoded data removed]",
       "text": [
        "<matplotlib.figure.Figure at 0x10becac50>"
       ]
      }
     ],
     "prompt_number": 226
    },
    {
     "cell_type": "code",
     "collapsed": false,
     "input": [
      "#Linear Regression / Manideep Maddipatla\n",
      "def load_boston():\n",
      "    scaler = StandardScaler()\n",
      "    boston = datasets.load_boston()\n",
      "    X=boston.data\n",
      "    y=boston.target\n",
      "    X = scaler.fit_transform(X)\n",
      "    return train_test_split(X,y)\n",
      "    X_train, X_test, y_train, y_test = load_boston()\n",
      "clf = LinearRegression()\n",
      "clf.fit(X_train, y_train)\n",
      "zip (y_test, clf.predict(X_test))"
     ],
     "language": "python",
     "metadata": {},
     "outputs": [
      {
       "metadata": {},
       "output_type": "pyout",
       "prompt_number": 229,
       "text": [
        "[(12.6, 17.894653764985851),\n",
        " (19.100000000000001, 15.6178515544518),\n",
        " (25.0, 27.607680160251235),\n",
        " (19.899999999999999, 15.893067215673561),\n",
        " (22.399999999999999, 25.14650502585193),\n",
        " (50.0, 16.396055124325994),\n",
        " (20.800000000000001, 15.115884824575321),\n",
        " (24.5, 20.104786033872447),\n",
        " (21.699999999999999, 21.178157742468667),\n",
        " (23.699999999999999, 11.990094124948218),\n",
        " (24.300000000000001, 26.450082751378208),\n",
        " (19.300000000000001, 19.690965506450951),\n",
        " (13.9, 12.901555706004103),\n",
        " (18.800000000000001, 19.498890070663588),\n",
        " (19.699999999999999, 13.079967336788879),\n",
        " (25.0, 21.706012493954631),\n",
        " (33.100000000000001, 32.835954003506437),\n",
        " (19.600000000000001, 17.731950923374079),\n",
        " (19.300000000000001, 19.036049228829821),\n",
        " (20.399999999999999, 18.965895676912712),\n",
        " (19.0, 12.341447726619702),\n",
        " (30.100000000000001, 28.544159849345725),\n",
        " (31.699999999999999, 34.089707281132092),\n",
        " (25.0, 27.989369123774317),\n",
        " (19.600000000000001, 20.984806130213059),\n",
        " (7.2000000000000002, 17.961744769263696),\n",
        " (8.4000000000000004, 16.322561150945756),\n",
        " (20.100000000000001, 16.947079667553819),\n",
        " (22.600000000000001, 23.531779077865664),\n",
        " (23.699999999999999, 25.930559663332929),\n",
        " (22.899999999999999, 22.000934792298533),\n",
        " (22.300000000000001, 26.147797408237015),\n",
        " (46.700000000000003, 37.361720748440177),\n",
        " (22.600000000000001, 18.347656002359759),\n",
        " (16.199999999999999, 19.035312058305728),\n",
        " (28.699999999999999, 28.471512623008099),\n",
        " (31.5, 29.85128534687016),\n",
        " (21.800000000000001, 19.102315394845135),\n",
        " (20.0, 20.605510300140036),\n",
        " (20.800000000000001, 14.459251351954507),\n",
        " (23.300000000000001, 25.221616533837619),\n",
        " (10.5, 3.0367604616892869),\n",
        " (28.699999999999999, 24.937653716798927),\n",
        " (29.600000000000001, 23.698252259205997),\n",
        " (13.0, 17.506235492147585),\n",
        " (21.899999999999999, 23.43333347870335),\n",
        " (13.199999999999999, 10.920576958176639),\n",
        " (28.5, 33.275593957117721),\n",
        " (22.0, 20.092562755353754),\n",
        " (22.600000000000001, 23.731457719492806),\n",
        " (8.5, 7.0402581881637438),\n",
        " (8.3000000000000007, 10.541353534923804),\n",
        " (13.800000000000001, 19.133672049487231),\n",
        " (41.299999999999997, 32.957009435902492),\n",
        " (14.5, 14.368804017686809),\n",
        " (24.0, 23.430280081036276),\n",
        " (23.199999999999999, 23.753920311544562),\n",
        " (18.0, 21.116026091184168),\n",
        " (13.4, 16.933125894274031),\n",
        " (32.399999999999999, 35.207202930806588),\n",
        " (11.300000000000001, 11.779501426962074),\n",
        " (36.0, 36.594426271582975),\n",
        " (21.899999999999999, 10.679335414584191),\n",
        " (17.800000000000001, 18.30080934335346),\n",
        " (17.5, 16.843149298329219),\n",
        " (13.300000000000001, 15.514971208711867),\n",
        " (16.199999999999999, 15.572173867056453),\n",
        " (26.399999999999999, 28.152523182647322),\n",
        " (15.0, 11.249612458906338),\n",
        " (17.399999999999999, 16.260393054854433),\n",
        " (28.699999999999999, 31.559057728479296),\n",
        " (19.399999999999999, 23.155706883619821),\n",
        " (25.0, 24.073672372870604),\n",
        " (20.399999999999999, 20.337487362241077),\n",
        " (21.699999999999999, 21.850433221967553),\n",
        " (22.199999999999999, 22.629915442167999),\n",
        " (23.0, 23.790026189002081),\n",
        " (22.800000000000001, 23.692969233016939),\n",
        " (11.0, 13.731043162496039),\n",
        " (19.0, 20.734293530264914),\n",
        " (16.0, 17.831102129212628),\n",
        " (7.4000000000000004, 4.2363728647558503),\n",
        " (7.0, 8.9877757035750321),\n",
        " (48.799999999999997, 44.071012855592556),\n",
        " (23.100000000000001, 1.7468206986684862),\n",
        " (20.600000000000001, 17.516518992380902),\n",
        " (13.1, 16.661072796635001),\n",
        " (14.5, 16.684422986663204),\n",
        " (17.199999999999999, 15.16185245190907),\n",
        " (23.0, 28.876924278435656),\n",
        " (13.6, 12.456335626013072),\n",
        " (15.6, 13.813781813869113),\n",
        " (14.9, 17.664830969865385),\n",
        " (46.0, 41.162243631630943),\n",
        " (50.0, 22.233966248486816),\n",
        " (19.899999999999999, 18.656318731677725),\n",
        " (18.600000000000001, 19.203522641541969),\n",
        " (22.699999999999999, 22.945447725584177),\n",
        " (20.800000000000001, 22.661318629364089),\n",
        " (11.9, 2.1358079728103618),\n",
        " (20.300000000000001, 19.005550932532763),\n",
        " (18.699999999999999, 20.64375522191273),\n",
        " (36.5, 35.751388791088687),\n",
        " (16.800000000000001, 20.002830690880042),\n",
        " (50.0, 38.273157842348169),\n",
        " (14.4, 9.658042065835815),\n",
        " (24.399999999999999, 28.194908982001309),\n",
        " (21.399999999999999, 20.167801767953375),\n",
        " (24.800000000000001, 30.631622088329983),\n",
        " (13.1, 20.228398991272019),\n",
        " (24.300000000000001, 19.982090855255965),\n",
        " (18.300000000000001, 19.122933620376678),\n",
        " (22.399999999999999, 21.887782324433697),\n",
        " (11.800000000000001, 13.724682929486026),\n",
        " (23.600000000000001, 27.372393044141088),\n",
        " (9.6999999999999993, 7.3348133848118984),\n",
        " (12.800000000000001, 12.018651254966308),\n",
        " (29.100000000000001, 29.512068639198525),\n",
        " (19.600000000000001, 20.884053006341549),\n",
        " (14.1, 17.190235363125968),\n",
        " (18.600000000000001, 16.952513096633673),\n",
        " (22.800000000000001, 26.776624314149398),\n",
        " (22.199999999999999, 19.744694705113005),\n",
        " (15.699999999999999, 15.838161806249726),\n",
        " (50.0, 22.135568895466701),\n",
        " (16.5, 12.196868182767464),\n",
        " (15.6, 15.209493880974541),\n",
        " (13.1, 11.917856315769516),\n",
        " (16.100000000000001, 14.972271201065393),\n",
        " (36.399999999999999, 33.433068363497668),\n",
        " (9.5999999999999996, 14.494124570975842),\n",
        " (20.100000000000001, 21.069647819008434),\n",
        " (24.399999999999999, 24.684527725639864),\n",
        " (18.699999999999999, 20.154910263184419),\n",
        " (17.800000000000001, 10.256467556126044),\n",
        " (16.699999999999999, 20.400099914472186),\n",
        " (31.0, 35.280534321921635),\n",
        " (23.800000000000001, 21.195006732226041),\n",
        " (18.899999999999999, 18.871070366029567),\n",
        " (22.699999999999999, 21.086746739373751),\n",
        " (31.600000000000001, 32.568749450266921),\n",
        " (34.899999999999999, 31.021366562123806),\n",
        " (39.799999999999997, 36.930795023736181),\n",
        " (21.100000000000001, 21.319822343407395),\n",
        " (18.5, 13.051488348093905),\n",
        " (20.600000000000001, 21.744289808973214),\n",
        " (19.600000000000001, 20.020006746279705),\n",
        " (17.100000000000001, 17.948502978379178),\n",
        " (28.199999999999999, 31.866281138899755),\n",
        " (50.0, 44.866816337837307),\n",
        " (23.100000000000001, 16.639042369993977),\n",
        " (13.800000000000001, 4.1999596647392075),\n",
        " (20.899999999999999, 21.095616345351115),\n",
        " (17.800000000000001, 25.366036641418464),\n",
        " (13.800000000000001, 14.68953784655039),\n",
        " (31.100000000000001, 32.201807482234464),\n",
        " (17.600000000000001, 14.845703076872983),\n",
        " (23.199999999999999, 25.758201421327669),\n",
        " (11.800000000000001, 8.5933347537818463),\n",
        " (19.300000000000001, 16.023384866149758),\n",
        " (43.5, 39.459466068495985),\n",
        " (33.299999999999997, 36.571370025412847),\n",
        " (22.0, 22.256732767711075),\n",
        " (14.300000000000001, 16.571045134894298),\n",
        " (25.0, 25.104127851451693),\n",
        " (22.0, 27.518400641873903),\n",
        " (21.399999999999999, 22.900885041649129),\n",
        " (10.4, 4.9235684227796774),\n",
        " (30.100000000000001, 33.621926103346041),\n",
        " (14.800000000000001, 15.597738556263277),\n",
        " (13.4, 11.977349572497772),\n",
        " (27.5, 20.18399922267767),\n",
        " (32.0, 33.240917593403097),\n",
        " (8.8000000000000007, -0.45152686347735838),\n",
        " (50.0, 46.979454589217809),\n",
        " (21.199999999999999, 22.53184800281959),\n",
        " (14.9, 15.970844822688598),\n",
        " (24.800000000000001, 25.003834682841685),\n",
        " (11.5, 11.734889896547941),\n",
        " (15.6, 20.670864233640106),\n",
        " (43.100000000000001, 37.94630282965997),\n",
        " (8.4000000000000004, 6.0732359902862427),\n",
        " (13.800000000000001, 12.958562390204079),\n",
        " (10.9, 12.868115196768336),\n",
        " (36.100000000000001, 34.031003288842662),\n",
        " (5.0, 8.0118358026201797),\n",
        " (23.699999999999999, 27.729698148634821),\n",
        " (23.300000000000001, 26.382913001467859),\n",
        " (21.699999999999999, 20.872864204786588),\n",
        " (29.899999999999999, 30.852464230672041),\n",
        " (50.0, 30.050212970264401),\n",
        " (37.0, 31.03229533111524),\n",
        " (27.899999999999999, 31.297214817689127),\n",
        " (21.699999999999999, 23.445392522763896),\n",
        " (15.199999999999999, 20.230020709758286),\n",
        " (8.5, 14.613546110859279),\n",
        " (30.699999999999999, 31.878703545374002),\n",
        " (19.800000000000001, 20.917307368606835),\n",
        " (21.899999999999999, 42.046748719417963),\n",
        " (23.399999999999999, 24.020960649171858),\n",
        " (18.5, 17.975074612411802),\n",
        " (7.5, 14.964363377513887),\n",
        " (23.100000000000001, 19.760197861146882),\n",
        " (16.5, 22.859310971459273),\n",
        " (13.9, 19.024128107036891),\n",
        " (21.699999999999999, 23.192290431702734),\n",
        " (21.800000000000001, 18.198642710238801),\n",
        " (24.600000000000001, 27.08581036591772),\n",
        " (42.299999999999997, 38.695068175629757),\n",
        " (24.5, 27.95875513206153),\n",
        " (20.0, 19.660218715804838),\n",
        " (44.0, 38.453614072550806),\n",
        " (14.0, 16.445217392441787),\n",
        " (32.200000000000003, 33.044859649415898),\n",
        " (21.199999999999999, 21.135369890244622),\n",
        " (21.600000000000001, 24.953723632626886),\n",
        " (19.399999999999999, 16.349113974546245),\n",
        " (11.9, 21.947851428362519),\n",
        " (21.199999999999999, 21.463886038049619),\n",
        " (22.800000000000001, 28.308423364350698),\n",
        " (20.600000000000001, 18.892883916478485),\n",
        " (21.699999999999999, 20.359832364095009),\n",
        " (20.5, 23.018999401037313),\n",
        " (29.800000000000001, 26.01389416605873),\n",
        " (24.399999999999999, 23.304673894138887),\n",
        " (23.899999999999999, 29.289704286205883),\n",
        " (8.8000000000000007, 5.7764241656041619),\n",
        " (19.800000000000001, 22.925212008780292),\n",
        " (26.699999999999999, 32.815757528393249),\n",
        " (19.100000000000001, 22.420012829623673),\n",
        " (18.399999999999999, 21.053880960549431),\n",
        " (22.899999999999999, 23.961531564313283),\n",
        " (17.399999999999999, 17.005828975977096),\n",
        " (19.800000000000001, 17.93796688041709),\n",
        " (18.899999999999999, 20.812697800581695),\n",
        " (20.0, 17.60747324450972),\n",
        " (22.5, 27.556621423837008),\n",
        " (34.899999999999999, 34.555436078618342),\n",
        " (14.1, 15.882723106119851),\n",
        " (27.5, 4.3616550398783147),\n",
        " (36.200000000000003, 29.738014845132763),\n",
        " (22.899999999999999, 28.553096180374506),\n",
        " (27.5, 31.897425957094452),\n",
        " (32.0, 32.185833703442803),\n",
        " (15.0, 26.932562517336205),\n",
        " (23.800000000000001, 24.870454620955055),\n",
        " (22.899999999999999, 21.865553155135771),\n",
        " (45.399999999999999, 40.078867952169915),\n",
        " (17.899999999999999, -1.9895289849580138),\n",
        " (17.5, 16.977832807082489),\n",
        " (24.100000000000001, 25.130249394495308),\n",
        " (22.5, 17.544970325255864),\n",
        " (14.9, 16.971396959432287)]"
       ]
      }
     ],
     "prompt_number": 229
    },
    {
     "cell_type": "code",
     "collapsed": false,
     "input": [
      "# Manideep Maddipatla\n",
      "from sklearn import linear_model\n",
      "linreg = linear_model.LinearRegression()\n",
      " "
     ],
     "language": "python",
     "metadata": {},
     "outputs": [],
     "prompt_number": 198
    },
    {
     "cell_type": "code",
     "collapsed": false,
     "input": [
      "# Manideep Maddipatla\n",
      "_=linreg.fit(train_data, train_target)"
     ],
     "language": "python",
     "metadata": {},
     "outputs": [],
     "prompt_number": 199
    },
    {
     "cell_type": "code",
     "collapsed": false,
     "input": [
      "#mean_squared_error / Manideep Maddipatla\n",
      "from sklearn import metrics\n",
      "mse = metrics.mean_squared_error(test_target, linreg.predict(test_data)) \n",
      "print(\"mean_squared_error is {}\".format(mse))"
     ],
     "language": "python",
     "metadata": {},
     "outputs": [
      {
       "output_type": "stream",
       "stream": "stdout",
       "text": [
        "mean_squared_error is 16.4952412915\n"
       ]
      }
     ],
     "prompt_number": 200
    },
    {
     "cell_type": "code",
     "collapsed": false,
     "input": [
      "# Manideep Maddipatla\n",
      "rmse = np.sqrt(mse) \n",
      "print(\"Rmean_squared_error is {}\".format(rmse))"
     ],
     "language": "python",
     "metadata": {},
     "outputs": [
      {
       "output_type": "stream",
       "stream": "stdout",
       "text": [
        "Rmean_squared_error is 4.06143340355\n"
       ]
      }
     ],
     "prompt_number": 201
    },
    {
     "cell_type": "code",
     "collapsed": false,
     "input": [
      "#R2_score/ Manideep Maddipatla\n",
      "linreg.fit(train_data, train_target)\n",
      "r2_train = metrics.r2_score(train_target, linreg.predict(train_data))\n",
      "r2_test = metrics.r2_score(test_target, linreg.predict(test_data))\n",
      "\n",
      "print(\"R2 train is: {:.2%}\".format(r2_train))\n",
      "print(\"R2 test is: {:.2%}\".format(r2_test))\n",
      " "
     ],
     "language": "python",
     "metadata": {},
     "outputs": [
      {
       "output_type": "stream",
       "stream": "stdout",
       "text": [
        "R2 train is: 73.60%\n",
        "R2 test is: 75.54%\n"
       ]
      }
     ],
     "prompt_number": 202
    },
    {
     "cell_type": "code",
     "collapsed": false,
     "input": [
      "#using L2 regularization  sklearn.linear_model.Lasso#/Manideep Maddipatla\n",
      "lasso = linear_model.Lasso()\n",
      "lasso.fit(train_data, train_target)\n"
     ],
     "language": "python",
     "metadata": {},
     "outputs": [
      {
       "metadata": {},
       "output_type": "pyout",
       "prompt_number": 203,
       "text": [
        "Lasso(alpha=1.0, copy_X=True, fit_intercept=True, max_iter=1000,\n",
        "   normalize=False, positive=False, precompute='auto', tol=0.0001,\n",
        "   warm_start=False)"
       ]
      }
     ],
     "prompt_number": 203
    },
    {
     "cell_type": "code",
     "collapsed": false,
     "input": [
      "lasso = linear_model.Lasso(alpha=0.1)\n",
      "lasso.fit(train_data, train_target)\n",
      " "
     ],
     "language": "python",
     "metadata": {},
     "outputs": [
      {
       "metadata": {},
       "output_type": "pyout",
       "prompt_number": 158,
       "text": [
        "Lasso(alpha=0.1, copy_X=True, fit_intercept=True, max_iter=1000,\n",
        "   normalize=False, positive=False, precompute='auto', tol=0.0001,\n",
        "   warm_start=False)"
       ]
      }
     ],
     "prompt_number": 158
    },
    {
     "cell_type": "code",
     "collapsed": false,
     "input": [
      "fig,ax = plt.subplots()\n",
      "ax.plot(train_data.ptp(axis=0))\n",
      "ax.set_xticklabels(boston.feature_names)\n",
      "ax.set_xticks(np.arange(train_data.shape[1]))\n",
      "ax.set_ylabel('Max-min')\n"
     ],
     "language": "python",
     "metadata": {},
     "outputs": [
      {
       "metadata": {},
       "output_type": "pyout",
       "prompt_number": 159,
       "text": [
        "<matplotlib.text.Text at 0x10b6ddc10>"
       ]
      },
      {
       "metadata": {},
       "output_type": "display_data",
       "png": "[encoded data removed]",
       "text": [
        "<matplotlib.figure.Figure at 0x10ba20dd0>"
       ]
      }
     ],
     "prompt_number": 159
    },
    {
     "cell_type": "code",
     "collapsed": false,
     "input": [
      "lasso = linear_model.Lasso(normalize=True, alpha=1.0)\n",
      "lasso.fit(train_data, train_target)"
     ],
     "language": "python",
     "metadata": {},
     "outputs": [
      {
       "metadata": {},
       "output_type": "pyout",
       "prompt_number": 160,
       "text": [
        "Lasso(alpha=1.0, copy_X=True, fit_intercept=True, max_iter=1000,\n",
        "   normalize=True, positive=False, precompute='auto', tol=0.0001,\n",
        "   warm_start=False)"
       ]
      }
     ],
     "prompt_number": 160
    },
    {
     "cell_type": "code",
     "collapsed": false,
     "input": [
      "lasso.fit(train_data, train_target)\n",
      "r2_lasso_train = lasso.score(train_data, train_target)\n",
      "r2_lasso = lasso.score(test_data, test_target)\n"
     ],
     "language": "python",
     "metadata": {},
     "outputs": [],
     "prompt_number": 161
    },
    {
     "cell_type": "code",
     "collapsed": false,
     "input": [
      "results = \"\"\"\\\n",
      "      | TRAIN DATA | TESTINGDATA\n",
      "------+----------+---------\n",
      "Lasso | {:.2%}   | {:.2%}\n",
      "---------------------------\n",
      "\"\"\".format(r2_lasso_train, r2_lasso)\n",
      "print(results)\n",
      " "
     ],
     "language": "python",
     "metadata": {},
     "outputs": [
      {
       "output_type": "stream",
       "stream": "stdout",
       "text": [
        "      | TRAIN DATA | TESTINGDATA\n",
        "------+----------+---------\n",
        "Lasso | 0.00%   | -0.20%\n",
        "---------------------------\n",
        "\n"
       ]
      }
     ],
     "prompt_number": 184
    },
    {
     "cell_type": "code",
     "collapsed": false,
     "input": [
      "lasso = linear_model.Lasso(normalize=True, alpha=10.0)\n",
      "lasso.fit(train_data, train_target)"
     ],
     "language": "python",
     "metadata": {},
     "outputs": [
      {
       "metadata": {},
       "output_type": "pyout",
       "prompt_number": 163,
       "text": [
        "Lasso(alpha=10.0, copy_X=True, fit_intercept=True, max_iter=1000,\n",
        "   normalize=True, positive=False, precompute='auto', tol=0.0001,\n",
        "   warm_start=False)"
       ]
      }
     ],
     "prompt_number": 163
    },
    {
     "cell_type": "code",
     "collapsed": false,
     "input": [
      "lasso.fit(train_data, train_target)\n",
      "r2_lasso_train = lasso.score(train_data, train_target)\n",
      "r2_lasso = lasso.score(test_data, test_target)\n"
     ],
     "language": "python",
     "metadata": {},
     "outputs": [],
     "prompt_number": 94
    },
    {
     "cell_type": "code",
     "collapsed": false,
     "input": [
      "results = \"\"\"\\\n",
      "      | TRAININGDATA | TESTINGDATA\n",
      "------+----------+---------\n",
      "Lasso | {:.5%}   | {:.5%}\n",
      "---------------------------\n",
      "\"\"\".format(r2_lasso_train, r2_lasso)\n",
      "print(results)\n",
      " "
     ],
     "language": "python",
     "metadata": {},
     "outputs": [
      {
       "output_type": "stream",
       "stream": "stdout",
       "text": [
        "      | TRAININGDATA | TESTINGDATA\n",
        "------+----------+---------\n",
        "Lasso | 0.00000%   | -0.19858%\n",
        "---------------------------\n",
        "\n"
       ]
      }
     ],
     "prompt_number": 185
    },
    {
     "cell_type": "code",
     "collapsed": false,
     "input": [
      "results = \"\"\"\\\n",
      "      | TRAINDATA | TESTDATA\n",
      "------+----------+---------\n",
      "Lasso | {:.2%}   | {:.2%}\n",
      "---------------------------\n",
      "\"\"\".format(r2_lasso_train, r2_lasso)\n",
      "print(results)\n",
      " "
     ],
     "language": "python",
     "metadata": {},
     "outputs": [
      {
       "output_type": "stream",
       "stream": "stdout",
       "text": [
        "      | TRAINDATA | TESTDATA\n",
        "------+----------+---------\n",
        "Lasso | 0.00%   | -0.20%\n",
        "---------------------------\n",
        "\n"
       ]
      }
     ],
     "prompt_number": 186
    },
    {
     "cell_type": "code",
     "collapsed": false,
     "input": [
      "lasso = linear_model.Lasso(normalize=True, alpha=1.0)\n",
      "lasso.fit(train_data, train_target)"
     ],
     "language": "python",
     "metadata": {},
     "outputs": [
      {
       "metadata": {},
       "output_type": "pyout",
       "prompt_number": 98,
       "text": [
        "Lasso(alpha=1.0, copy_X=True, fit_intercept=True, max_iter=1000,\n",
        "   normalize=True, positive=False, precompute='auto', tol=0.0001,\n",
        "   warm_start=False)"
       ]
      }
     ],
     "prompt_number": 98
    },
    {
     "cell_type": "code",
     "collapsed": false,
     "input": [
      "lasso.fit(train_data, train_target)\n",
      "r2_lasso_train = lasso.score(train_data, train_target)\n",
      "r2_lasso = lasso.score(test_data, test_target)\n"
     ],
     "language": "python",
     "metadata": {},
     "outputs": [],
     "prompt_number": 99
    },
    {
     "cell_type": "code",
     "collapsed": false,
     "input": [
      "results = \"\"\"\\\n",
      "      | TRAINDATA | TESTDATA\n",
      "------+----------+---------\n",
      "Lasso | {:.2%}   | {:.2%}\n",
      "---------------------------\n",
      "\"\"\".format(r2_lasso_train, r2_lasso)\n",
      "print(results)\n",
      " "
     ],
     "language": "python",
     "metadata": {},
     "outputs": [
      {
       "output_type": "stream",
       "stream": "stdout",
       "text": [
        "      | TRAINDATA | TESTDATA\n",
        "------+----------+---------\n",
        "Lasso | 0.00%   | -0.20%\n",
        "---------------------------\n",
        "\n"
       ]
      }
     ],
     "prompt_number": 187
    },
    {
     "cell_type": "code",
     "collapsed": false,
     "input": [
      "#Comparing Ridge and Lasso\n",
      "ridge = linear_model.Ridge(normalize=True, alpha=.1)\n",
      "\n",
      "ridge.fit(train_data, train_target)\n",
      "r2_ridge_train = ridge.score(train_data, train_target)\n",
      "r2_ridge = ridge.score(test_data, test_target)"
     ],
     "language": "python",
     "metadata": {},
     "outputs": [],
     "prompt_number": 101
    },
    {
     "cell_type": "code",
     "collapsed": false,
     "input": [
      "results = \"\"\"\\\n",
      "      | TRAINDATA | TESTDATA\n",
      "------+----------+---------\n",
      "Lasso | {:.2%}   | {:.2%}\n",
      "------+----------+---------\n",
      "Ridge | {:.2%}   | {:.2%}\n",
      "---------------------------\n",
      "\"\"\".format(r2_lasso_train, r2_lasso,\n",
      "           r2_ridge_train, r2_ridge)\n",
      "print(results)\n",
      " "
     ],
     "language": "python",
     "metadata": {},
     "outputs": [
      {
       "output_type": "stream",
       "stream": "stdout",
       "text": [
        "      | TRAINDATA | TESTDATA\n",
        "------+----------+---------\n",
        "Lasso | 0.00%   | -0.20%\n",
        "------+----------+---------\n",
        "Ridge | 73.10%   | 71.30%\n",
        "---------------------------\n",
        "\n"
       ]
      }
     ],
     "prompt_number": 188
    },
    {
     "cell_type": "code",
     "collapsed": false,
     "input": [
      "lasso = linear_model.Lasso(normalize=True, alpha=0.1)\n",
      "lasso.fit(train_data, train_target)\n"
     ],
     "language": "python",
     "metadata": {},
     "outputs": [
      {
       "metadata": {},
       "output_type": "pyout",
       "prompt_number": 108,
       "text": [
        "Lasso(alpha=0.1, copy_X=True, fit_intercept=True, max_iter=1000,\n",
        "   normalize=True, positive=False, precompute='auto', tol=0.0001,\n",
        "   warm_start=False)"
       ]
      }
     ],
     "prompt_number": 108
    },
    {
     "cell_type": "code",
     "collapsed": false,
     "input": [
      "lasso.fit(train_data, train_target)\n",
      "\n",
      "r2_lasso_train = lasso.score(train_data, train_target)\n",
      "r2_lasso = lasso.score(test_data, test_target)\n"
     ],
     "language": "python",
     "metadata": {},
     "outputs": [],
     "prompt_number": 109
    },
    {
     "cell_type": "code",
     "collapsed": false,
     "input": [
      "results = \"\"\"\\\n",
      "      | TRAINDATA | TESTDATA\n",
      "------+----------+---------\n",
      "Lasso | {:.2%}   | {:.2%}\n",
      "---------------------------\n",
      "\"\"\".format(r2_lasso_train, r2_lasso)\n",
      "print(results)\n",
      " "
     ],
     "language": "python",
     "metadata": {},
     "outputs": [
      {
       "output_type": "stream",
       "stream": "stdout",
       "text": [
        "      | TRAINDATA | TESTDATA\n",
        "------+----------+---------\n",
        "Lasso | 0.00%   | -0.20%\n",
        "---------------------------\n",
        "\n"
       ]
      }
     ],
     "prompt_number": 189
    },
    {
     "cell_type": "code",
     "collapsed": false,
     "input": [
      "from sklearn.datasets import *\n",
      "from sklearn.cross_validation import train_test_split\n",
      "\n",
      "data = load_boston()\n",
      "\n",
      "X_train, X_test, y_train, y_test = train_test_split(data.data, data.target, train_size=0.5)\n",
      "model = LinearRegression()\n",
      "model.fit(X_train, y_train)\n",
      "print \"Train R2 %f\" %model.score(X_train, y_train)\n",
      "print \"Test R2 %f\" %model.score(X_test, y_test)"
     ],
     "language": "python",
     "metadata": {},
     "outputs": [
      {
       "output_type": "stream",
       "stream": "stdout",
       "text": [
        "Train R2 0.821708\n",
        "Test R2 0.593197\n"
       ]
      }
     ],
     "prompt_number": 209
    },
    {
     "cell_type": "code",
     "collapsed": false,
     "input": [
      "lasso.alpha = 0.1\n",
      "lasso.fit(train_data, train_target)\n",
      "ridge.alpha = 0.1\n",
      "ridge.fit(train_data, train_target)"
     ],
     "language": "python",
     "metadata": {},
     "outputs": [
      {
       "metadata": {},
       "output_type": "pyout",
       "prompt_number": 112,
       "text": [
        "Ridge(alpha=0.1, copy_X=True, fit_intercept=True, max_iter=None,\n",
        "   normalize=True, solver='auto', tol=0.001)"
       ]
      }
     ],
     "prompt_number": 112
    },
    {
     "cell_type": "code",
     "collapsed": false,
     "input": [
      "fig,ax = plt.subplots()\n",
      "ax.plot(lasso.coef_, label=r'Lasso value ($\\alpha$=0.1)')\n",
      "ax.plot(ridge.coef_, label=r'Ridge value ($\\alpha$=0.1)')\n",
      "ax.set_xticklabels(boston.feature_names)\n",
      "ax.set_xticks(np.arange(train_data.shape[1]))\n",
      "ax.legend(loc='best')\n",
      " "
     ],
     "language": "python",
     "metadata": {},
     "outputs": [
      {
       "metadata": {},
       "output_type": "pyout",
       "prompt_number": 191,
       "text": [
        "<matplotlib.legend.Legend at 0x10b9d3910>"
       ]
      },
      {
       "metadata": {},
       "output_type": "display_data",
       "png": "[encoded data removed]",
       "text": [
        "<matplotlib.figure.Figure at 0x10bda8490>"
       ]
      }
     ],
     "prompt_number": 191
    },
    {
     "cell_type": "code",
     "collapsed": false,
     "input": [
      "fig,ax = plt.subplots()\n",
      "ax.plot(lasso.coef_, label=r'Lassovalue ($\\alpha$=10.0)')\n",
      "ax.plot(ridge.coef_, label=r'Ridgevalue ($\\alpha$=10.0)')\n",
      "ax.set_xticklabels(boston.feature_names)\n",
      "ax.set_xticks(np.arange(train_data.shape[1]))\n",
      "ax.legend(loc='best')\n",
      " "
     ],
     "language": "python",
     "metadata": {},
     "outputs": [
      {
       "metadata": {},
       "output_type": "pyout",
       "prompt_number": 192,
       "text": [
        "<matplotlib.legend.Legend at 0x10b6d1bd0>"
       ]
      },
      {
       "metadata": {},
       "output_type": "display_data",
       "png": "[encoded data removed]",
       "text": [
        "<matplotlib.figure.Figure at 0x10b687610>"
       ]
      }
     ],
     "prompt_number": 192
    },
    {
     "cell_type": "code",
     "collapsed": false,
     "input": [
      "from sklearn.metrics import r2_score\n",
      "y_true = [3, -0.5, 2, 7]\n",
      "y_pred = [2.5, 0.0, 2, 8]\n",
      "r2_score(y_true, y_pred)  \n",
      "\n"
     ],
     "language": "python",
     "metadata": {},
     "outputs": [
      {
       "metadata": {},
       "output_type": "pyout",
       "prompt_number": 124,
       "text": [
        "0.94860813704496794"
       ]
      }
     ],
     "prompt_number": 124
    },
    {
     "cell_type": "code",
     "collapsed": false,
     "input": [
      "y_true = [[0.5, 1], [-1, 1], [7, -6]]\n",
      "y_pred = [[0, 2], [-1, 2], [8, -5]]\n",
      "r2_score(y_true, y_pred)  "
     ],
     "language": "python",
     "metadata": {},
     "outputs": [
      {
       "metadata": {},
       "output_type": "pyout",
       "prompt_number": 125,
       "text": [
        "0.93825665859564167"
       ]
      }
     ],
     "prompt_number": 125
    },
    {
     "cell_type": "code",
     "collapsed": false,
     "input": [
      "from sklearn.metrics import mean_squared_error\n",
      "y_true = [3, -1, 6, 4]\n",
      "y_pred = [2.5, 1, 2, 8]\n",
      "mean_squared_error(y_true, y_pred)\n"
     ],
     "language": "python",
     "metadata": {},
     "outputs": [
      {
       "metadata": {},
       "output_type": "pyout",
       "prompt_number": 126,
       "text": [
        "9.0625"
       ]
      }
     ],
     "prompt_number": 126
    },
    {
     "cell_type": "code",
     "collapsed": false,
     "input": [
      "y_true = [[-0.5, 1],[-1, 1],[7, -6]]\n",
      "y_pred = [[0, -2],[-1, 2],[8, -5]]\n",
      "mean_squared_error(y_true, y_pred)"
     ],
     "language": "python",
     "metadata": {},
     "outputs": [
      {
       "metadata": {},
       "output_type": "pyout",
       "prompt_number": 127,
       "text": [
        "2.0416666666666665"
       ]
      }
     ],
     "prompt_number": 127
    },
    {
     "cell_type": "code",
     "collapsed": false,
     "input": [
      "print(__doc__)\n",
      "\n",
      "import numpy as np\n",
      "import matplotlib.pyplot as plt\n",
      "\n",
      "from sklearn.metrics import r2_score\n",
      "\n",
      "from sklearn.linear_model import Lasso\n",
      "\n",
      "alpha = 0.1\n",
      "lasso = Lasso(alpha=alpha)\n",
      "\n",
      "y_pred_lasso = lasso.fit(X_train, y_train).predict(X_test)\n",
      "r2_score_lasso = r2_score(y_test, y_pred_lasso)\n",
      "print(lasso)\n",
      "print(\"r^2 on test data : %f\" % r2_score_lasso)\n",
      "\n",
      "\n",
      "\n",
      "\n",
      "plt.plot(lasso.coef_, label='Lasso coefficients')\n",
      "plt.plot(coef, '--', label='original coefficients')\n",
      "plt.legend(loc='best')\n",
      "plt.show() "
     ],
     "language": "python",
     "metadata": {},
     "outputs": [
      {
       "output_type": "stream",
       "stream": "stdout",
       "text": [
        "Automatically created module for IPython interactive environment\n",
        "Lasso(alpha=0.1, copy_X=True, fit_intercept=True, max_iter=1000,\n",
        "   normalize=False, positive=False, precompute='auto', tol=0.0001,\n",
        "   warm_start=False)\n",
        "r^2 on test data : 0.384710\n"
       ]
      },
      {
       "metadata": {},
       "output_type": "display_data",
       "png": "[encoded data removed]",
       "text": [
        "<matplotlib.figure.Figure at 0x109a077d0>"
       ]
      }
     ],
     "prompt_number": 131
    },
    {
     "cell_type": "code",
     "collapsed": false,
     "input": [
      "from sklearn.datasets import *\n",
      "from sklearn.linear_model import LinearRegression\n",
      "\n",
      "data = load_boston()\n",
      "model = LinearRegression()\n",
      "model.fit(data.data, data.target)\n",
      "print model.__dict__\n",
      "print model.score(data.data, data.target)"
     ],
     "language": "python",
     "metadata": {},
     "outputs": [
      {
       "output_type": "stream",
       "stream": "stdout",
       "text": [
        "{'normalize': False, 'intercept_': 36.491103280361543, 'residues_': 11080.276284149875, 'fit_intercept': True, 'coef_': array([ -1.07170557e-01,   4.63952195e-02,   2.08602395e-02,\n",
        "         2.68856140e+00,  -1.77957587e+01,   3.80475246e+00,\n",
        "         7.51061703e-04,  -1.47575880e+00,   3.05655038e-01,\n",
        "        -1.23293463e-02,  -9.53463555e-01,   9.39251272e-03,\n",
        "        -5.25466633e-01]), 'copy_X': True, 'rank_': 13, 'singular_': array([  3.94958310e+03,   1.77662274e+03,   6.42864253e+02,\n",
        "         3.66980826e+02,   1.59116390e+02,   1.18692322e+02,\n",
        "         9.01718207e+01,   6.93889529e+01,   4.06572735e+01,\n",
        "         2.44223087e+01,   1.13502686e+01,   5.50918200e+00,\n",
        "         1.24178413e+00])}\n",
        "0.740607742865\n"
       ]
      }
     ],
     "prompt_number": 205
    },
    {
     "cell_type": "code",
     "collapsed": false,
     "input": [
      "clfA = LinearRegression()\n",
      "clfA.fit(X_train, y_train)"
     ],
     "language": "python",
     "metadata": {},
     "outputs": [
      {
       "metadata": {},
       "output_type": "pyout",
       "prompt_number": 211,
       "text": [
        "LinearRegression(copy_X=True, fit_intercept=True, normalize=False)"
       ]
      }
     ],
     "prompt_number": 211
    },
    {
     "cell_type": "code",
     "collapsed": false,
     "input": [
      "zip (y_test, clfA.predict(X_test))"
     ],
     "language": "python",
     "metadata": {},
     "outputs": [
      {
       "metadata": {},
       "output_type": "pyout",
       "prompt_number": 213,
       "text": [
        "[(12.6, 17.894653764985851),\n",
        " (19.100000000000001, 15.6178515544518),\n",
        " (25.0, 27.607680160251235),\n",
        " (19.899999999999999, 15.893067215673561),\n",
        " (22.399999999999999, 25.14650502585193),\n",
        " (50.0, 16.396055124325994),\n",
        " (20.800000000000001, 15.115884824575321),\n",
        " (24.5, 20.104786033872447),\n",
        " (21.699999999999999, 21.178157742468667),\n",
        " (23.699999999999999, 11.990094124948218),\n",
        " (24.300000000000001, 26.450082751378208),\n",
        " (19.300000000000001, 19.690965506450951),\n",
        " (13.9, 12.901555706004103),\n",
        " (18.800000000000001, 19.498890070663588),\n",
        " (19.699999999999999, 13.079967336788879),\n",
        " (25.0, 21.706012493954631),\n",
        " (33.100000000000001, 32.835954003506437),\n",
        " (19.600000000000001, 17.731950923374079),\n",
        " (19.300000000000001, 19.036049228829821),\n",
        " (20.399999999999999, 18.965895676912712),\n",
        " (19.0, 12.341447726619702),\n",
        " (30.100000000000001, 28.544159849345725),\n",
        " (31.699999999999999, 34.089707281132092),\n",
        " (25.0, 27.989369123774317),\n",
        " (19.600000000000001, 20.984806130213059),\n",
        " (7.2000000000000002, 17.961744769263696),\n",
        " (8.4000000000000004, 16.322561150945756),\n",
        " (20.100000000000001, 16.947079667553819),\n",
        " (22.600000000000001, 23.531779077865664),\n",
        " (23.699999999999999, 25.930559663332929),\n",
        " (22.899999999999999, 22.000934792298533),\n",
        " (22.300000000000001, 26.147797408237015),\n",
        " (46.700000000000003, 37.361720748440177),\n",
        " (22.600000000000001, 18.347656002359759),\n",
        " (16.199999999999999, 19.035312058305728),\n",
        " (28.699999999999999, 28.471512623008099),\n",
        " (31.5, 29.85128534687016),\n",
        " (21.800000000000001, 19.102315394845135),\n",
        " (20.0, 20.605510300140036),\n",
        " (20.800000000000001, 14.459251351954507),\n",
        " (23.300000000000001, 25.221616533837619),\n",
        " (10.5, 3.0367604616892869),\n",
        " (28.699999999999999, 24.937653716798927),\n",
        " (29.600000000000001, 23.698252259205997),\n",
        " (13.0, 17.506235492147585),\n",
        " (21.899999999999999, 23.43333347870335),\n",
        " (13.199999999999999, 10.920576958176639),\n",
        " (28.5, 33.275593957117721),\n",
        " (22.0, 20.092562755353754),\n",
        " (22.600000000000001, 23.731457719492806),\n",
        " (8.5, 7.0402581881637438),\n",
        " (8.3000000000000007, 10.541353534923804),\n",
        " (13.800000000000001, 19.133672049487231),\n",
        " (41.299999999999997, 32.957009435902492),\n",
        " (14.5, 14.368804017686809),\n",
        " (24.0, 23.430280081036276),\n",
        " (23.199999999999999, 23.753920311544562),\n",
        " (18.0, 21.116026091184168),\n",
        " (13.4, 16.933125894274031),\n",
        " (32.399999999999999, 35.207202930806588),\n",
        " (11.300000000000001, 11.779501426962074),\n",
        " (36.0, 36.594426271582975),\n",
        " (21.899999999999999, 10.679335414584191),\n",
        " (17.800000000000001, 18.30080934335346),\n",
        " (17.5, 16.843149298329219),\n",
        " (13.300000000000001, 15.514971208711867),\n",
        " (16.199999999999999, 15.572173867056453),\n",
        " (26.399999999999999, 28.152523182647322),\n",
        " (15.0, 11.249612458906338),\n",
        " (17.399999999999999, 16.260393054854433),\n",
        " (28.699999999999999, 31.559057728479296),\n",
        " (19.399999999999999, 23.155706883619821),\n",
        " (25.0, 24.073672372870604),\n",
        " (20.399999999999999, 20.337487362241077),\n",
        " (21.699999999999999, 21.850433221967553),\n",
        " (22.199999999999999, 22.629915442167999),\n",
        " (23.0, 23.790026189002081),\n",
        " (22.800000000000001, 23.692969233016939),\n",
        " (11.0, 13.731043162496039),\n",
        " (19.0, 20.734293530264914),\n",
        " (16.0, 17.831102129212628),\n",
        " (7.4000000000000004, 4.2363728647558503),\n",
        " (7.0, 8.9877757035750321),\n",
        " (48.799999999999997, 44.071012855592556),\n",
        " (23.100000000000001, 1.7468206986684862),\n",
        " (20.600000000000001, 17.516518992380902),\n",
        " (13.1, 16.661072796635001),\n",
        " (14.5, 16.684422986663204),\n",
        " (17.199999999999999, 15.16185245190907),\n",
        " (23.0, 28.876924278435656),\n",
        " (13.6, 12.456335626013072),\n",
        " (15.6, 13.813781813869113),\n",
        " (14.9, 17.664830969865385),\n",
        " (46.0, 41.162243631630943),\n",
        " (50.0, 22.233966248486816),\n",
        " (19.899999999999999, 18.656318731677725),\n",
        " (18.600000000000001, 19.203522641541969),\n",
        " (22.699999999999999, 22.945447725584177),\n",
        " (20.800000000000001, 22.661318629364089),\n",
        " (11.9, 2.1358079728103618),\n",
        " (20.300000000000001, 19.005550932532763),\n",
        " (18.699999999999999, 20.64375522191273),\n",
        " (36.5, 35.751388791088687),\n",
        " (16.800000000000001, 20.002830690880042),\n",
        " (50.0, 38.273157842348169),\n",
        " (14.4, 9.658042065835815),\n",
        " (24.399999999999999, 28.194908982001309),\n",
        " (21.399999999999999, 20.167801767953375),\n",
        " (24.800000000000001, 30.631622088329983),\n",
        " (13.1, 20.228398991272019),\n",
        " (24.300000000000001, 19.982090855255965),\n",
        " (18.300000000000001, 19.122933620376678),\n",
        " (22.399999999999999, 21.887782324433697),\n",
        " (11.800000000000001, 13.724682929486026),\n",
        " (23.600000000000001, 27.372393044141088),\n",
        " (9.6999999999999993, 7.3348133848118984),\n",
        " (12.800000000000001, 12.018651254966308),\n",
        " (29.100000000000001, 29.512068639198525),\n",
        " (19.600000000000001, 20.884053006341549),\n",
        " (14.1, 17.190235363125968),\n",
        " (18.600000000000001, 16.952513096633673),\n",
        " (22.800000000000001, 26.776624314149398),\n",
        " (22.199999999999999, 19.744694705113005),\n",
        " (15.699999999999999, 15.838161806249726),\n",
        " (50.0, 22.135568895466701),\n",
        " (16.5, 12.196868182767464),\n",
        " (15.6, 15.209493880974541),\n",
        " (13.1, 11.917856315769516),\n",
        " (16.100000000000001, 14.972271201065393),\n",
        " (36.399999999999999, 33.433068363497668),\n",
        " (9.5999999999999996, 14.494124570975842),\n",
        " (20.100000000000001, 21.069647819008434),\n",
        " (24.399999999999999, 24.684527725639864),\n",
        " (18.699999999999999, 20.154910263184419),\n",
        " (17.800000000000001, 10.256467556126044),\n",
        " (16.699999999999999, 20.400099914472186),\n",
        " (31.0, 35.280534321921635),\n",
        " (23.800000000000001, 21.195006732226041),\n",
        " (18.899999999999999, 18.871070366029567),\n",
        " (22.699999999999999, 21.086746739373751),\n",
        " (31.600000000000001, 32.568749450266921),\n",
        " (34.899999999999999, 31.021366562123806),\n",
        " (39.799999999999997, 36.930795023736181),\n",
        " (21.100000000000001, 21.319822343407395),\n",
        " (18.5, 13.051488348093905),\n",
        " (20.600000000000001, 21.744289808973214),\n",
        " (19.600000000000001, 20.020006746279705),\n",
        " (17.100000000000001, 17.948502978379178),\n",
        " (28.199999999999999, 31.866281138899755),\n",
        " (50.0, 44.866816337837307),\n",
        " (23.100000000000001, 16.639042369993977),\n",
        " (13.800000000000001, 4.1999596647392075),\n",
        " (20.899999999999999, 21.095616345351115),\n",
        " (17.800000000000001, 25.366036641418464),\n",
        " (13.800000000000001, 14.68953784655039),\n",
        " (31.100000000000001, 32.201807482234464),\n",
        " (17.600000000000001, 14.845703076872983),\n",
        " (23.199999999999999, 25.758201421327669),\n",
        " (11.800000000000001, 8.5933347537818463),\n",
        " (19.300000000000001, 16.023384866149758),\n",
        " (43.5, 39.459466068495985),\n",
        " (33.299999999999997, 36.571370025412847),\n",
        " (22.0, 22.256732767711075),\n",
        " (14.300000000000001, 16.571045134894298),\n",
        " (25.0, 25.104127851451693),\n",
        " (22.0, 27.518400641873903),\n",
        " (21.399999999999999, 22.900885041649129),\n",
        " (10.4, 4.9235684227796774),\n",
        " (30.100000000000001, 33.621926103346041),\n",
        " (14.800000000000001, 15.597738556263277),\n",
        " (13.4, 11.977349572497772),\n",
        " (27.5, 20.18399922267767),\n",
        " (32.0, 33.240917593403097),\n",
        " (8.8000000000000007, -0.45152686347735838),\n",
        " (50.0, 46.979454589217809),\n",
        " (21.199999999999999, 22.53184800281959),\n",
        " (14.9, 15.970844822688598),\n",
        " (24.800000000000001, 25.003834682841685),\n",
        " (11.5, 11.734889896547941),\n",
        " (15.6, 20.670864233640106),\n",
        " (43.100000000000001, 37.94630282965997),\n",
        " (8.4000000000000004, 6.0732359902862427),\n",
        " (13.800000000000001, 12.958562390204079),\n",
        " (10.9, 12.868115196768336),\n",
        " (36.100000000000001, 34.031003288842662),\n",
        " (5.0, 8.0118358026201797),\n",
        " (23.699999999999999, 27.729698148634821),\n",
        " (23.300000000000001, 26.382913001467859),\n",
        " (21.699999999999999, 20.872864204786588),\n",
        " (29.899999999999999, 30.852464230672041),\n",
        " (50.0, 30.050212970264401),\n",
        " (37.0, 31.03229533111524),\n",
        " (27.899999999999999, 31.297214817689127),\n",
        " (21.699999999999999, 23.445392522763896),\n",
        " (15.199999999999999, 20.230020709758286),\n",
        " (8.5, 14.613546110859279),\n",
        " (30.699999999999999, 31.878703545374002),\n",
        " (19.800000000000001, 20.917307368606835),\n",
        " (21.899999999999999, 42.046748719417963),\n",
        " (23.399999999999999, 24.020960649171858),\n",
        " (18.5, 17.975074612411802),\n",
        " (7.5, 14.964363377513887),\n",
        " (23.100000000000001, 19.760197861146882),\n",
        " (16.5, 22.859310971459273),\n",
        " (13.9, 19.024128107036891),\n",
        " (21.699999999999999, 23.192290431702734),\n",
        " (21.800000000000001, 18.198642710238801),\n",
        " (24.600000000000001, 27.08581036591772),\n",
        " (42.299999999999997, 38.695068175629757),\n",
        " (24.5, 27.95875513206153),\n",
        " (20.0, 19.660218715804838),\n",
        " (44.0, 38.453614072550806),\n",
        " (14.0, 16.445217392441787),\n",
        " (32.200000000000003, 33.044859649415898),\n",
        " (21.199999999999999, 21.135369890244622),\n",
        " (21.600000000000001, 24.953723632626886),\n",
        " (19.399999999999999, 16.349113974546245),\n",
        " (11.9, 21.947851428362519),\n",
        " (21.199999999999999, 21.463886038049619),\n",
        " (22.800000000000001, 28.308423364350698),\n",
        " (20.600000000000001, 18.892883916478485),\n",
        " (21.699999999999999, 20.359832364095009),\n",
        " (20.5, 23.018999401037313),\n",
        " (29.800000000000001, 26.01389416605873),\n",
        " (24.399999999999999, 23.304673894138887),\n",
        " (23.899999999999999, 29.289704286205883),\n",
        " (8.8000000000000007, 5.7764241656041619),\n",
        " (19.800000000000001, 22.925212008780292),\n",
        " (26.699999999999999, 32.815757528393249),\n",
        " (19.100000000000001, 22.420012829623673),\n",
        " (18.399999999999999, 21.053880960549431),\n",
        " (22.899999999999999, 23.961531564313283),\n",
        " (17.399999999999999, 17.005828975977096),\n",
        " (19.800000000000001, 17.93796688041709),\n",
        " (18.899999999999999, 20.812697800581695),\n",
        " (20.0, 17.60747324450972),\n",
        " (22.5, 27.556621423837008),\n",
        " (34.899999999999999, 34.555436078618342),\n",
        " (14.1, 15.882723106119851),\n",
        " (27.5, 4.3616550398783147),\n",
        " (36.200000000000003, 29.738014845132763),\n",
        " (22.899999999999999, 28.553096180374506),\n",
        " (27.5, 31.897425957094452),\n",
        " (32.0, 32.185833703442803),\n",
        " (15.0, 26.932562517336205),\n",
        " (23.800000000000001, 24.870454620955055),\n",
        " (22.899999999999999, 21.865553155135771),\n",
        " (45.399999999999999, 40.078867952169915),\n",
        " (17.899999999999999, -1.9895289849580138),\n",
        " (17.5, 16.977832807082489),\n",
        " (24.100000000000001, 25.130249394495308),\n",
        " (22.5, 17.544970325255864),\n",
        " (14.9, 16.971396959432287)]"
       ]
      }
     ],
     "prompt_number": 213
    },
    {
     "cell_type": "code",
     "collapsed": false,
     "input": [
      "r2_score(y_test, clfA.predict(X_test))"
     ],
     "language": "python",
     "metadata": {},
     "outputs": [
      {
       "metadata": {},
       "output_type": "pyout",
       "prompt_number": 215,
       "text": [
        "0.59319676824017331"
       ]
      }
     ],
     "prompt_number": 215
    },
    {
     "cell_type": "code",
     "collapsed": false,
     "input": [
      "math.sqrt(mean_squared_error(y_test, clfA.predict(X_test)))"
     ],
     "language": "python",
     "metadata": {},
     "outputs": [
      {
       "metadata": {},
       "output_type": "pyout",
       "prompt_number": 216,
       "text": [
        "5.801599539843104"
       ]
      }
     ],
     "prompt_number": 216
    },
    {
     "cell_type": "code",
     "collapsed": false,
     "input": [
      "from sklearn import datasets\n",
      "import pandas as pd\n",
      "from sklearn.preprocessing import StandardScaler\n",
      "from sklearn.cross_validation import train_test_split\n",
      "from sklearn.metrics import mean_squared_error\n",
      "from sklearn.metrics import r2_score\n",
      "from sklearn.linear_model import LinearRegression\n",
      "from sklearn.linear_model import Lasso\n",
      "import math"
     ],
     "language": "python",
     "metadata": {},
     "outputs": [],
     "prompt_number": 7
    },
    {
     "cell_type": "code",
     "collapsed": false,
     "input": [
      "def load_boston():\n",
      "    scaler = StandardScaler()\n",
      "    boston = datasets.load_boston()\n",
      "    X=boston.data\n",
      "    y=boston.target\n",
      "    X = scaler.fit_transform(X)\n",
      "    return train_test_split(X,y)"
     ],
     "language": "python",
     "metadata": {},
     "outputs": [],
     "prompt_number": 8
    },
    {
     "cell_type": "code",
     "collapsed": false,
     "input": [
      "X_train, X_test, y_train, y_test = load_boston()"
     ],
     "language": "python",
     "metadata": {},
     "outputs": [],
     "prompt_number": 9
    },
    {
     "cell_type": "code",
     "collapsed": false,
     "input": [
      "X_train.shape"
     ],
     "language": "python",
     "metadata": {},
     "outputs": [
      {
       "metadata": {},
       "output_type": "pyout",
       "prompt_number": 10,
       "text": [
        "(379, 13)"
       ]
      }
     ],
     "prompt_number": 10
    },
    {
     "cell_type": "code",
     "collapsed": false,
     "input": [
      "clfA = LinearRegression()\n",
      "clfA.fit(X_train, y_train)"
     ],
     "language": "python",
     "metadata": {},
     "outputs": [
      {
       "metadata": {},
       "output_type": "pyout",
       "prompt_number": 11,
       "text": [
        "LinearRegression(copy_X=True, fit_intercept=True, normalize=False)"
       ]
      }
     ],
     "prompt_number": 11
    },
    {
     "cell_type": "code",
     "collapsed": false,
     "input": [
      "zip (y_test, clfA.predict(X_test))"
     ],
     "language": "python",
     "metadata": {},
     "outputs": [
      {
       "metadata": {},
       "output_type": "pyout",
       "prompt_number": 13,
       "text": [
        "[(11.9, 22.753069076196208),\n",
        " (50.0, 42.826066311933182),\n",
        " (13.0, 17.349254155159333),\n",
        " (18.300000000000001, 19.147200753146954),\n",
        " (12.0, 10.860174353592964),\n",
        " (29.0, 31.92619179157807),\n",
        " (19.899999999999999, 19.290960757173721),\n",
        " (24.600000000000001, 29.207089056625062),\n",
        " (19.899999999999999, 19.957745679652191),\n",
        " (33.799999999999997, 34.917324943391456),\n",
        " (20.100000000000001, 16.634701666305983),\n",
        " (46.0, 39.850186912754559),\n",
        " (13.1, 20.33593910549849),\n",
        " (14.5, 17.873020348565355),\n",
        " (20.100000000000001, 23.611711416384395),\n",
        " (36.0, 36.717044118058553),\n",
        " (19.600000000000001, 20.110631521272076),\n",
        " (20.199999999999999, 22.901484329280503),\n",
        " (30.800000000000001, 30.968038258151356),\n",
        " (22.600000000000001, 24.481290020481339),\n",
        " (20.0, 20.212515042862453),\n",
        " (14.300000000000001, 17.262640958391742),\n",
        " (27.899999999999999, 19.729066686291013),\n",
        " (11.5, 13.82152867871412),\n",
        " (17.800000000000001, 17.69540415182275),\n",
        " (30.5, 30.424585522629521),\n",
        " (14.1, 16.050017457354983),\n",
        " (13.6, 12.532027144496364),\n",
        " (20.100000000000001, 20.061304369188758),\n",
        " (19.699999999999999, 13.718236483765754),\n",
        " (16.800000000000001, 19.544806448099393),\n",
        " (19.899999999999999, 17.707033130273253),\n",
        " (19.0, 14.358295041251672),\n",
        " (24.300000000000001, 24.26944095374192),\n",
        " (22.800000000000001, 26.826899496699031),\n",
        " (13.6, 14.346102778730863),\n",
        " (16.600000000000001, 18.120761218340839),\n",
        " (18.899999999999999, 21.937387327849692),\n",
        " (30.699999999999999, 31.145671076252263),\n",
        " (21.899999999999999, 37.789105166836286),\n",
        " (34.600000000000001, 34.676955395466067),\n",
        " (29.899999999999999, 31.575401818674312),\n",
        " (13.1, 14.235993132169794),\n",
        " (16.100000000000001, 21.391778343577961),\n",
        " (22.399999999999999, 21.656673179439064),\n",
        " (32.0, 33.705429852153955),\n",
        " (22.300000000000001, 27.13214124908648),\n",
        " (29.100000000000001, 31.364574103998329),\n",
        " (23.0, 29.125842846147084),\n",
        " (17.899999999999999, 0.49248883014181644),\n",
        " (16.800000000000001, 20.529394731370623),\n",
        " (23.199999999999999, 17.183217277921784),\n",
        " (23.100000000000001, 16.58366397454575),\n",
        " (20.600000000000001, 21.077428051509958),\n",
        " (21.199999999999999, 21.314822224038814),\n",
        " (48.5, 41.591985351677437),\n",
        " (36.399999999999999, 33.220622363135526),\n",
        " (37.600000000000001, 38.22589087234627),\n",
        " (14.6, 18.968376490476931),\n",
        " (16.600000000000001, 15.870611902159656),\n",
        " (19.300000000000001, 15.783484648123492),\n",
        " (21.399999999999999, 24.584322436254553),\n",
        " (22.199999999999999, 24.200202682908298),\n",
        " (5.0, 5.9963973086297813),\n",
        " (29.0, 31.024015352077438),\n",
        " (28.0, 28.543625983573449),\n",
        " (20.600000000000001, 19.203640237613413),\n",
        " (19.100000000000001, 16.515062677151683),\n",
        " (43.5, 39.492257636657442),\n",
        " (21.399999999999999, 24.120686683254288),\n",
        " (50.0, 25.041163325599427),\n",
        " (29.600000000000001, 25.767931329545178),\n",
        " (20.300000000000001, 19.605124514065608),\n",
        " (18.899999999999999, 23.732331828834788),\n",
        " (16.699999999999999, 20.354221517815116),\n",
        " (22.5, 21.996784214001643),\n",
        " (24.800000000000001, 26.760149714566197),\n",
        " (23.699999999999999, 28.354639035341364),\n",
        " (21.899999999999999, 15.244833142461914),\n",
        " (19.800000000000001, 18.438076807006027),\n",
        " (31.600000000000001, 32.653831845670418),\n",
        " (48.299999999999997, 37.874308780820272),\n",
        " (21.899999999999999, 24.133172522965513),\n",
        " (19.5, 18.373248183868377),\n",
        " (29.100000000000001, 29.953441375305143),\n",
        " (21.800000000000001, 20.518404533842887),\n",
        " (19.199999999999999, 23.79493389767859),\n",
        " (23.300000000000001, 26.777898918267638),\n",
        " (17.100000000000001, 17.457063362661664),\n",
        " (9.5999999999999996, 14.812276802266933),\n",
        " (16.5, 22.956740250320014),\n",
        " (24.300000000000001, 29.294564355770753),\n",
        " (50.0, 41.115111056565461),\n",
        " (21.199999999999999, 21.44624836681561),\n",
        " (24.5, 27.665804833464954),\n",
        " (20.300000000000001, 22.580274040496896),\n",
        " (21.699999999999999, 20.641360666272099),\n",
        " (20.100000000000001, 21.519191797904686),\n",
        " (20.600000000000001, 22.714475518159286),\n",
        " (31.100000000000001, 31.917210163461775),\n",
        " (14.6, 8.5265112735148332),\n",
        " (23.100000000000001, 25.207385228484583),\n",
        " (29.800000000000001, 32.090315171052048),\n",
        " (26.399999999999999, 28.556481494103899),\n",
        " (24.199999999999999, 25.329604848303088),\n",
        " (21.699999999999999, 22.505695897841303),\n",
        " (7.4000000000000004, 4.7854984873185096),\n",
        " (23.600000000000001, 29.001200954962403),\n",
        " (13.1, 14.394574686827387),\n",
        " (13.4, 16.864368149564669),\n",
        " (14.4, 8.7353643222927211),\n",
        " (20.0, 23.048226902978215),\n",
        " (23.100000000000001, 20.900092642896372),\n",
        " (18.699999999999999, 21.658574372995123),\n",
        " (16.199999999999999, 15.43334055056593),\n",
        " (14.0, 13.727834759378062),\n",
        " (16.399999999999999, 19.385718391045589),\n",
        " (14.9, 17.429677051263781),\n",
        " (23.100000000000001, 22.495642111239061),\n",
        " (24.399999999999999, 22.676870752196884),\n",
        " (19.100000000000001, 19.573427374391301),\n",
        " (27.100000000000001, 19.769107701149728),\n",
        " (15.4, 18.259025383176969),\n",
        " (22.199999999999999, 22.834411561183028),\n",
        " (17.0, 22.420970506470439),\n",
        " (24.5, 20.47664513358022),\n",
        " (50.0, 32.022209620650656)]"
       ]
      }
     ],
     "prompt_number": 13
    },
    {
     "cell_type": "code",
     "collapsed": false,
     "input": [
      "r2_score(y_test, clfA.predict(X_test))"
     ],
     "language": "python",
     "metadata": {},
     "outputs": [
      {
       "metadata": {},
       "output_type": "pyout",
       "prompt_number": 14,
       "text": [
        "0.68652976523824871"
       ]
      }
     ],
     "prompt_number": 14
    },
    {
     "cell_type": "code",
     "collapsed": false,
     "input": [
      "clfB =Ridge(alpha=1.0)"
     ],
     "language": "python",
     "metadata": {},
     "outputs": [],
     "prompt_number": 38
    },
    {
     "cell_type": "code",
     "collapsed": false,
     "input": [
      "clfB.fit(X_train, y_train)"
     ],
     "language": "python",
     "metadata": {},
     "outputs": [
      {
       "metadata": {},
       "output_type": "pyout",
       "prompt_number": 18,
       "text": [
        "Ridge(alpha=1.0, copy_X=True, fit_intercept=True, max_iter=None,\n",
        "   normalize=False, solver='auto', tol=0.001)"
       ]
      }
     ],
     "prompt_number": 18
    },
    {
     "cell_type": "code",
     "collapsed": false,
     "input": [
      "zip (y_test, clfB.predict(X_test))"
     ],
     "language": "python",
     "metadata": {},
     "outputs": [
      {
       "metadata": {},
       "output_type": "pyout",
       "prompt_number": 19,
       "text": [
        "[(11.9, 22.754297110649102),\n",
        " (50.0, 42.732915467121693),\n",
        " (13.0, 17.348159698663196),\n",
        " (18.300000000000001, 19.180771660014994),\n",
        " (12.0, 10.841581542327614),\n",
        " (29.0, 31.938407499429438),\n",
        " (19.899999999999999, 19.290567621351443),\n",
        " (24.600000000000001, 29.189472421313184),\n",
        " (19.899999999999999, 19.926160238445476),\n",
        " (33.799999999999997, 34.889382152323577),\n",
        " (20.100000000000001, 16.761993884975983),\n",
        " (46.0, 39.813764525254662),\n",
        " (13.1, 20.320986443592769),\n",
        " (14.5, 17.836955747092656),\n",
        " (20.100000000000001, 23.59133959053532),\n",
        " (36.0, 36.677002038855036),\n",
        " (19.600000000000001, 20.140066974358554),\n",
        " (20.199999999999999, 22.889300083856376),\n",
        " (30.800000000000001, 30.924434488525382),\n",
        " (22.600000000000001, 24.574915373257827),\n",
        " (20.0, 20.21285936653554),\n",
        " (14.300000000000001, 17.256511692860684),\n",
        " (27.899999999999999, 19.680238346867963),\n",
        " (11.5, 13.804163906032768),\n",
        " (17.800000000000001, 17.713682373641401),\n",
        " (30.5, 30.453601563858143),\n",
        " (14.1, 16.050430830500058),\n",
        " (13.6, 12.563608305698331),\n",
        " (20.100000000000001, 20.079882349706136),\n",
        " (19.699999999999999, 13.762122830558273),\n",
        " (16.800000000000001, 19.552599338630319),\n",
        " (19.899999999999999, 17.696214383391638),\n",
        " (19.0, 14.339943526414309),\n",
        " (24.300000000000001, 24.236975801193552),\n",
        " (22.800000000000001, 26.857394650836078),\n",
        " (13.6, 14.476196029805058),\n",
        " (16.600000000000001, 18.123515155602675),\n",
        " (18.899999999999999, 21.945398601562299),\n",
        " (30.699999999999999, 31.12751739439161),\n",
        " (21.899999999999999, 37.797591130834725),\n",
        " (34.600000000000001, 34.681982344399636),\n",
        " (29.899999999999999, 31.560333134085873),\n",
        " (13.1, 14.274571612335659),\n",
        " (16.100000000000001, 21.347085059061381),\n",
        " (22.399999999999999, 21.662059715315003),\n",
        " (32.0, 33.64669839610071),\n",
        " (22.300000000000001, 27.093699551854016),\n",
        " (29.100000000000001, 31.351420306250176),\n",
        " (23.0, 29.08948256677542),\n",
        " (17.899999999999999, 0.47847735586181983),\n",
        " (16.800000000000001, 20.558004710407104),\n",
        " (23.199999999999999, 17.177067100304438),\n",
        " (23.100000000000001, 16.638203741022458),\n",
        " (20.600000000000001, 21.044929148234591),\n",
        " (21.199999999999999, 21.344082767407755),\n",
        " (48.5, 41.498518061374448),\n",
        " (36.399999999999999, 33.252042718841068),\n",
        " (37.600000000000001, 38.184499993478227),\n",
        " (14.6, 18.940070530360682),\n",
        " (16.600000000000001, 15.903253807866246),\n",
        " (19.300000000000001, 15.79104063320961),\n",
        " (21.399999999999999, 24.594635047758665),\n",
        " (22.199999999999999, 24.193032617072699),\n",
        " (5.0, 6.0276572256639511),\n",
        " (29.0, 31.008504283216787),\n",
        " (28.0, 28.537643697579767),\n",
        " (20.600000000000001, 19.184015013018421),\n",
        " (19.100000000000001, 16.484449403255148),\n",
        " (43.5, 39.453809621536053),\n",
        " (21.399999999999999, 24.137693699638209),\n",
        " (50.0, 25.004273821789234),\n",
        " (29.600000000000001, 25.807562819913493),\n",
        " (20.300000000000001, 19.593601184303186),\n",
        " (18.899999999999999, 23.713540015223931),\n",
        " (16.699999999999999, 20.328673529884874),\n",
        " (22.5, 22.002914977620257),\n",
        " (24.800000000000001, 26.737368970720858),\n",
        " (23.699999999999999, 28.339223171903992),\n",
        " (21.899999999999999, 15.208593249953033),\n",
        " (19.800000000000001, 18.453592476461061),\n",
        " (31.600000000000001, 32.612312160128155),\n",
        " (48.299999999999997, 37.849254901033987),\n",
        " (21.899999999999999, 24.158172902985367),\n",
        " (19.5, 18.395566105647823),\n",
        " (29.100000000000001, 29.902844418750536),\n",
        " (21.800000000000001, 20.545518381836835),\n",
        " (19.199999999999999, 23.818175562029083),\n",
        " (23.300000000000001, 26.808751976955076),\n",
        " (17.100000000000001, 17.464718997950598),\n",
        " (9.5999999999999996, 14.819968146838061),\n",
        " (16.5, 23.094626006081111),\n",
        " (24.300000000000001, 29.250692593065907),\n",
        " (50.0, 41.085885832742584),\n",
        " (21.199999999999999, 21.474003701320743),\n",
        " (24.5, 27.659822651113267),\n",
        " (20.300000000000001, 22.481250125433121),\n",
        " (21.699999999999999, 20.683016408133717),\n",
        " (20.100000000000001, 21.541529581592641),\n",
        " (20.600000000000001, 22.718457878546975),\n",
        " (31.100000000000001, 31.911283019131901),\n",
        " (14.6, 8.5912472193185589),\n",
        " (23.100000000000001, 25.20509254962753),\n",
        " (29.800000000000001, 32.093784763861166),\n",
        " (26.399999999999999, 28.533568739854953),\n",
        " (24.199999999999999, 25.336573843624215),\n",
        " (21.699999999999999, 22.499707019997938),\n",
        " (7.4000000000000004, 4.8054235900441071),\n",
        " (23.600000000000001, 28.979239409724112),\n",
        " (13.1, 14.422016936545083),\n",
        " (13.4, 16.863718873736254),\n",
        " (14.4, 8.7585017305622408),\n",
        " (20.0, 23.056097513672555),\n",
        " (23.100000000000001, 20.934636559149876),\n",
        " (18.699999999999999, 21.646248456319835),\n",
        " (16.199999999999999, 15.460979233604352),\n",
        " (14.0, 13.776672115843347),\n",
        " (16.399999999999999, 19.386141995606337),\n",
        " (14.9, 17.432521081226902),\n",
        " (23.100000000000001, 22.475287271609442),\n",
        " (24.399999999999999, 22.68715606584135),\n",
        " (19.100000000000001, 19.547971616458078),\n",
        " (27.100000000000001, 19.785051682851179),\n",
        " (15.4, 18.264131998862954),\n",
        " (22.199999999999999, 22.845215065116175),\n",
        " (17.0, 22.483067657294878),\n",
        " (24.5, 20.514407085383599),\n",
        " (50.0, 31.970854041385273)]"
       ]
      }
     ],
     "prompt_number": 19
    },
    {
     "cell_type": "code",
     "collapsed": false,
     "input": [
      "r2_score(y_test, clfB.predict(X_test))"
     ],
     "language": "python",
     "metadata": {},
     "outputs": [
      {
       "metadata": {},
       "output_type": "pyout",
       "prompt_number": 20,
       "text": [
        "0.68597139081821801"
       ]
      }
     ],
     "prompt_number": 20
    },
    {
     "cell_type": "code",
     "collapsed": false,
     "input": [
      "math.sqrt(mean_squared_error(y_test, clfB.predict(X_test)))"
     ],
     "language": "python",
     "metadata": {},
     "outputs": [
      {
       "metadata": {},
       "output_type": "pyout",
       "prompt_number": 21,
       "text": [
        "4.975345141992587"
       ]
      }
     ],
     "prompt_number": 21
    },
    {
     "cell_type": "code",
     "collapsed": false,
     "input": [
      " from sklearn import linear_model"
     ],
     "language": "python",
     "metadata": {},
     "outputs": [],
     "prompt_number": 25
    },
    {
     "cell_type": "code",
     "collapsed": false,
     "input": [
      "clfA = linear_model.Lasso(alpha=0.1)\n",
      " "
     ],
     "language": "python",
     "metadata": {},
     "outputs": [],
     "prompt_number": 48
    },
    {
     "cell_type": "code",
     "collapsed": false,
     "input": [
      "clfA.fit(X_train, y_train)"
     ],
     "language": "python",
     "metadata": {},
     "outputs": [
      {
       "metadata": {},
       "output_type": "pyout",
       "prompt_number": 49,
       "text": [
        "Lasso(alpha=0.1, copy_X=True, fit_intercept=True, max_iter=1000,\n",
        "   normalize=False, positive=False, precompute='auto', tol=0.0001,\n",
        "   warm_start=False)"
       ]
      }
     ],
     "prompt_number": 49
    },
    {
     "cell_type": "code",
     "collapsed": false,
     "input": [
      " print(clfA.coef_)"
     ],
     "language": "python",
     "metadata": {},
     "outputs": [
      {
       "output_type": "stream",
       "stream": "stdout",
       "text": [
        "[-0.63136713  0.48162527 -0.          0.43641616 -1.15431343  3.03698175\n",
        " -0.         -2.08212757  0.72413382 -0.5646912  -1.8089048   0.75999515\n",
        " -3.91495066]\n"
       ]
      }
     ],
     "prompt_number": 50
    },
    {
     "cell_type": "code",
     "collapsed": false,
     "input": [
      "print(clfA.intercept_)"
     ],
     "language": "python",
     "metadata": {},
     "outputs": [
      {
       "output_type": "stream",
       "stream": "stdout",
       "text": [
        "22.5496980832\n"
       ]
      }
     ],
     "prompt_number": 51
    },
    {
     "cell_type": "code",
     "collapsed": false,
     "input": [
      "zip (y_test, clfA.predict(X_test))"
     ],
     "language": "python",
     "metadata": {},
     "outputs": [
      {
       "metadata": {},
       "output_type": "pyout",
       "prompt_number": 52,
       "text": [
        "[(11.9, 23.017427427658799),\n",
        " (50.0, 41.006198804027164),\n",
        " (13.0, 17.283647540903381),\n",
        " (18.300000000000001, 19.589269539752891),\n",
        " (12.0, 10.291600467285425),\n",
        " (29.0, 32.040267426011688),\n",
        " (19.899999999999999, 19.355591705604663),\n",
        " (24.600000000000001, 28.871614032261157),\n",
        " (19.899999999999999, 19.351683212914686),\n",
        " (33.799999999999997, 34.202371650216151),\n",
        " (20.100000000000001, 19.373160476668275),\n",
        " (46.0, 38.888640662179093),\n",
        " (13.1, 20.016971423838115),\n",
        " (14.5, 17.408223936477086),\n",
        " (20.100000000000001, 23.074631274798026),\n",
        " (36.0, 35.879589702561717),\n",
        " (19.600000000000001, 21.065781124569824),\n",
        " (20.199999999999999, 22.910685953529359),\n",
        " (30.800000000000001, 30.031300245424781),\n",
        " (22.600000000000001, 26.039701852668568),\n",
        " (20.0, 20.08148898005518),\n",
        " (14.300000000000001, 17.375013158214063),\n",
        " (27.899999999999999, 19.059636600465797),\n",
        " (11.5, 13.303283913600186),\n",
        " (17.800000000000001, 17.840442436192362),\n",
        " (30.5, 30.890938055267661),\n",
        " (14.1, 16.243517182231642),\n",
        " (13.6, 12.763352872768397),\n",
        " (20.100000000000001, 20.113246206413869),\n",
        " (19.699999999999999, 14.069511110803511),\n",
        " (16.800000000000001, 19.268591002612858),\n",
        " (19.899999999999999, 17.557468842661439),\n",
        " (19.0, 14.280178363739319),\n",
        " (24.300000000000001, 23.559049956139642),\n",
        " (22.800000000000001, 27.363014380068403),\n",
        " (13.6, 16.966108520976803),\n",
        " (16.600000000000001, 17.964745949122044),\n",
        " (18.899999999999999, 22.083336479952127),\n",
        " (30.699999999999999, 30.419622739167284),\n",
        " (21.899999999999999, 37.866186244666551),\n",
        " (34.600000000000001, 34.557686275663428),\n",
        " (29.899999999999999, 31.245030999071595),\n",
        " (13.1, 15.415194948610164),\n",
        " (16.100000000000001, 20.945196516617219),\n",
        " (22.399999999999999, 21.183181422176911),\n",
        " (32.0, 32.764079547897566),\n",
        " (22.300000000000001, 26.430881862168999),\n",
        " (29.100000000000001, 31.077675544837081),\n",
        " (23.0, 28.302394433177362),\n",
        " (17.899999999999999, -0.064605862319858431),\n",
        " (16.800000000000001, 20.864866532661534),\n",
        " (23.199999999999999, 16.930770212005491),\n",
        " (23.100000000000001, 17.201684443748064),\n",
        " (20.600000000000001, 20.618440204175538),\n",
        " (21.199999999999999, 21.691129507347675),\n",
        " (48.5, 39.730192423253904),\n",
        " (36.399999999999999, 33.794321430388351),\n",
        " (37.600000000000001, 37.680969177868405),\n",
        " (14.6, 18.41384971812624),\n",
        " (16.600000000000001, 16.39276417812632),\n",
        " (19.300000000000001, 15.088686884151075),\n",
        " (21.399999999999999, 24.525444513381217),\n",
        " (22.199999999999999, 23.985841671557409),\n",
        " (5.0, 6.3165164719268851),\n",
        " (29.0, 30.322706088431673),\n",
        " (28.0, 28.467006788037445),\n",
        " (20.600000000000001, 18.903186953692714),\n",
        " (19.100000000000001, 15.777833399174737),\n",
        " (43.5, 38.831146249781462),\n",
        " (21.399999999999999, 24.642259457407864),\n",
        " (50.0, 24.184945129885506),\n",
        " (29.600000000000001, 26.754610097604033),\n",
        " (20.300000000000001, 19.561930982683975),\n",
        " (18.899999999999999, 23.318366985944593),\n",
        " (16.699999999999999, 19.749129260778869),\n",
        " (22.5, 21.890234948069718),\n",
        " (24.800000000000001, 26.254784183011893),\n",
        " (23.699999999999999, 28.079018332278217),\n",
        " (21.899999999999999, 14.665075673204541),\n",
        " (19.800000000000001, 18.605163837299436),\n",
        " (31.600000000000001, 31.984232191440036),\n",
        " (48.299999999999997, 37.59841736279315),\n",
        " (21.899999999999999, 24.558607129257862),\n",
        " (19.5, 18.465835382921465),\n",
        " (29.100000000000001, 28.971122241645521),\n",
        " (21.800000000000001, 20.872552643768689),\n",
        " (19.199999999999999, 24.201611304054993),\n",
        " (23.300000000000001, 27.91648205833966),\n",
        " (17.100000000000001, 17.48987307549903),\n",
        " (9.5999999999999996, 15.264045896244419),\n",
        " (16.5, 25.336022367684436),\n",
        " (24.300000000000001, 29.102368182305472),\n",
        " (50.0, 40.455563175221776),\n",
        " (21.199999999999999, 22.065775168996847),\n",
        " (24.5, 27.447116148815532),\n",
        " (20.300000000000001, 21.418361700951511),\n",
        " (21.699999999999999, 21.191556926676583),\n",
        " (20.100000000000001, 21.782247297599607),\n",
        " (20.600000000000001, 22.963733204191236),\n",
        " (31.100000000000001, 31.707357506049551),\n",
        " (14.6, 9.3741380205733034),\n",
        " (23.100000000000001, 25.298910524972868),\n",
        " (29.800000000000001, 32.00263238343792),\n",
        " (26.399999999999999, 28.034232937514389),\n",
        " (24.199999999999999, 25.705109970911153),\n",
        " (21.699999999999999, 21.424736258972153),\n",
        " (7.4000000000000004, 4.6481563507649923),\n",
        " (23.600000000000001, 28.460227449418653),\n",
        " (13.1, 14.664993128827987),\n",
        " (13.4, 17.136271200931166),\n",
        " (14.4, 8.4979550029109241),\n",
        " (20.0, 23.31476913414356),\n",
        " (23.100000000000001, 21.673542380359734),\n",
        " (18.699999999999999, 21.435508120575687),\n",
        " (16.199999999999999, 16.128050275704659),\n",
        " (14.0, 14.522905498817241),\n",
        " (16.399999999999999, 19.4814582769494),\n",
        " (14.9, 17.596707937522186),\n",
        " (23.100000000000001, 21.765825672499911),\n",
        " (24.399999999999999, 22.392164934034387),\n",
        " (19.100000000000001, 19.170195176848136),\n",
        " (27.100000000000001, 19.833180818055464),\n",
        " (15.4, 18.273770690156251),\n",
        " (22.199999999999999, 23.233756151551365),\n",
        " (17.0, 23.402342537990258),\n",
        " (24.5, 20.945217966772478),\n",
        " (50.0, 31.070907458834306)]"
       ]
      }
     ],
     "prompt_number": 52
    },
    {
     "cell_type": "code",
     "collapsed": false,
     "input": [
      "r2_score(y_test, clfA.predict(X_test))"
     ],
     "language": "python",
     "metadata": {},
     "outputs": [
      {
       "metadata": {},
       "output_type": "pyout",
       "prompt_number": 35,
       "text": [
        "0.6638593874434735"
       ]
      }
     ],
     "prompt_number": 35
    },
    {
     "cell_type": "code",
     "collapsed": false,
     "input": [
      "clfB = linear_model.Lasso(alpha=10.0)\n",
      " "
     ],
     "language": "python",
     "metadata": {},
     "outputs": [],
     "prompt_number": 41
    },
    {
     "cell_type": "code",
     "collapsed": false,
     "input": [
      "clfB.fit(X_train, y_train)"
     ],
     "language": "python",
     "metadata": {},
     "outputs": [
      {
       "metadata": {},
       "output_type": "pyout",
       "prompt_number": 42,
       "text": [
        "Lasso(alpha=10.0, copy_X=True, fit_intercept=True, max_iter=1000,\n",
        "   normalize=False, positive=False, precompute='auto', tol=0.0001,\n",
        "   warm_start=False)"
       ]
      }
     ],
     "prompt_number": 42
    },
    {
     "cell_type": "code",
     "collapsed": false,
     "input": [
      " print(clfB.coef_)"
     ],
     "language": "python",
     "metadata": {},
     "outputs": [
      {
       "output_type": "stream",
       "stream": "stdout",
       "text": [
        "[-0.  0. -0.  0. -0.  0. -0.  0. -0. -0. -0.  0. -0.]\n"
       ]
      }
     ],
     "prompt_number": 44
    },
    {
     "cell_type": "code",
     "collapsed": false,
     "input": [
      "print(clfB.intercept_)"
     ],
     "language": "python",
     "metadata": {},
     "outputs": [
      {
       "output_type": "stream",
       "stream": "stdout",
       "text": [
        "22.4432717678\n"
       ]
      }
     ],
     "prompt_number": 45
    },
    {
     "cell_type": "code",
     "collapsed": false,
     "input": [
      "zip (y_test, clfB.predict(X_test))"
     ],
     "language": "python",
     "metadata": {},
     "outputs": [
      {
       "metadata": {},
       "output_type": "pyout",
       "prompt_number": 53,
       "text": [
        "[(11.9, 22.443271767810025),\n",
        " (50.0, 22.443271767810025),\n",
        " (13.0, 22.443271767810025),\n",
        " (18.300000000000001, 22.443271767810025),\n",
        " (12.0, 22.443271767810025),\n",
        " (29.0, 22.443271767810025),\n",
        " (19.899999999999999, 22.443271767810025),\n",
        " (24.600000000000001, 22.443271767810025),\n",
        " (19.899999999999999, 22.443271767810025),\n",
        " (33.799999999999997, 22.443271767810025),\n",
        " (20.100000000000001, 22.443271767810025),\n",
        " (46.0, 22.443271767810025),\n",
        " (13.1, 22.443271767810025),\n",
        " (14.5, 22.443271767810025),\n",
        " (20.100000000000001, 22.443271767810025),\n",
        " (36.0, 22.443271767810025),\n",
        " (19.600000000000001, 22.443271767810025),\n",
        " (20.199999999999999, 22.443271767810025),\n",
        " (30.800000000000001, 22.443271767810025),\n",
        " (22.600000000000001, 22.443271767810025),\n",
        " (20.0, 22.443271767810025),\n",
        " (14.300000000000001, 22.443271767810025),\n",
        " (27.899999999999999, 22.443271767810025),\n",
        " (11.5, 22.443271767810025),\n",
        " (17.800000000000001, 22.443271767810025),\n",
        " (30.5, 22.443271767810025),\n",
        " (14.1, 22.443271767810025),\n",
        " (13.6, 22.443271767810025),\n",
        " (20.100000000000001, 22.443271767810025),\n",
        " (19.699999999999999, 22.443271767810025),\n",
        " (16.800000000000001, 22.443271767810025),\n",
        " (19.899999999999999, 22.443271767810025),\n",
        " (19.0, 22.443271767810025),\n",
        " (24.300000000000001, 22.443271767810025),\n",
        " (22.800000000000001, 22.443271767810025),\n",
        " (13.6, 22.443271767810025),\n",
        " (16.600000000000001, 22.443271767810025),\n",
        " (18.899999999999999, 22.443271767810025),\n",
        " (30.699999999999999, 22.443271767810025),\n",
        " (21.899999999999999, 22.443271767810025),\n",
        " (34.600000000000001, 22.443271767810025),\n",
        " (29.899999999999999, 22.443271767810025),\n",
        " (13.1, 22.443271767810025),\n",
        " (16.100000000000001, 22.443271767810025),\n",
        " (22.399999999999999, 22.443271767810025),\n",
        " (32.0, 22.443271767810025),\n",
        " (22.300000000000001, 22.443271767810025),\n",
        " (29.100000000000001, 22.443271767810025),\n",
        " (23.0, 22.443271767810025),\n",
        " (17.899999999999999, 22.443271767810025),\n",
        " (16.800000000000001, 22.443271767810025),\n",
        " (23.199999999999999, 22.443271767810025),\n",
        " (23.100000000000001, 22.443271767810025),\n",
        " (20.600000000000001, 22.443271767810025),\n",
        " (21.199999999999999, 22.443271767810025),\n",
        " (48.5, 22.443271767810025),\n",
        " (36.399999999999999, 22.443271767810025),\n",
        " (37.600000000000001, 22.443271767810025),\n",
        " (14.6, 22.443271767810025),\n",
        " (16.600000000000001, 22.443271767810025),\n",
        " (19.300000000000001, 22.443271767810025),\n",
        " (21.399999999999999, 22.443271767810025),\n",
        " (22.199999999999999, 22.443271767810025),\n",
        " (5.0, 22.443271767810025),\n",
        " (29.0, 22.443271767810025),\n",
        " (28.0, 22.443271767810025),\n",
        " (20.600000000000001, 22.443271767810025),\n",
        " (19.100000000000001, 22.443271767810025),\n",
        " (43.5, 22.443271767810025),\n",
        " (21.399999999999999, 22.443271767810025),\n",
        " (50.0, 22.443271767810025),\n",
        " (29.600000000000001, 22.443271767810025),\n",
        " (20.300000000000001, 22.443271767810025),\n",
        " (18.899999999999999, 22.443271767810025),\n",
        " (16.699999999999999, 22.443271767810025),\n",
        " (22.5, 22.443271767810025),\n",
        " (24.800000000000001, 22.443271767810025),\n",
        " (23.699999999999999, 22.443271767810025),\n",
        " (21.899999999999999, 22.443271767810025),\n",
        " (19.800000000000001, 22.443271767810025),\n",
        " (31.600000000000001, 22.443271767810025),\n",
        " (48.299999999999997, 22.443271767810025),\n",
        " (21.899999999999999, 22.443271767810025),\n",
        " (19.5, 22.443271767810025),\n",
        " (29.100000000000001, 22.443271767810025),\n",
        " (21.800000000000001, 22.443271767810025),\n",
        " (19.199999999999999, 22.443271767810025),\n",
        " (23.300000000000001, 22.443271767810025),\n",
        " (17.100000000000001, 22.443271767810025),\n",
        " (9.5999999999999996, 22.443271767810025),\n",
        " (16.5, 22.443271767810025),\n",
        " (24.300000000000001, 22.443271767810025),\n",
        " (50.0, 22.443271767810025),\n",
        " (21.199999999999999, 22.443271767810025),\n",
        " (24.5, 22.443271767810025),\n",
        " (20.300000000000001, 22.443271767810025),\n",
        " (21.699999999999999, 22.443271767810025),\n",
        " (20.100000000000001, 22.443271767810025),\n",
        " (20.600000000000001, 22.443271767810025),\n",
        " (31.100000000000001, 22.443271767810025),\n",
        " (14.6, 22.443271767810025),\n",
        " (23.100000000000001, 22.443271767810025),\n",
        " (29.800000000000001, 22.443271767810025),\n",
        " (26.399999999999999, 22.443271767810025),\n",
        " (24.199999999999999, 22.443271767810025),\n",
        " (21.699999999999999, 22.443271767810025),\n",
        " (7.4000000000000004, 22.443271767810025),\n",
        " (23.600000000000001, 22.443271767810025),\n",
        " (13.1, 22.443271767810025),\n",
        " (13.4, 22.443271767810025),\n",
        " (14.4, 22.443271767810025),\n",
        " (20.0, 22.443271767810025),\n",
        " (23.100000000000001, 22.443271767810025),\n",
        " (18.699999999999999, 22.443271767810025),\n",
        " (16.199999999999999, 22.443271767810025),\n",
        " (14.0, 22.443271767810025),\n",
        " (16.399999999999999, 22.443271767810025),\n",
        " (14.9, 22.443271767810025),\n",
        " (23.100000000000001, 22.443271767810025),\n",
        " (24.399999999999999, 22.443271767810025),\n",
        " (19.100000000000001, 22.443271767810025),\n",
        " (27.100000000000001, 22.443271767810025),\n",
        " (15.4, 22.443271767810025),\n",
        " (22.199999999999999, 22.443271767810025),\n",
        " (17.0, 22.443271767810025),\n",
        " (24.5, 22.443271767810025),\n",
        " (50.0, 22.443271767810025)]"
       ]
      }
     ],
     "prompt_number": 53
    },
    {
     "cell_type": "code",
     "collapsed": false,
     "input": [
      "r2_score(y_test, clfA.predict(X_test))"
     ],
     "language": "python",
     "metadata": {},
     "outputs": [
      {
       "metadata": {},
       "output_type": "pyout",
       "prompt_number": 54,
       "text": [
        "0.6638593874434735"
       ]
      }
     ],
     "prompt_number": 54
    },
    {
     "cell_type": "code",
     "collapsed": false,
     "input": [
      "math.sqrt(mean_squared_error(y_test, clfA.predict(X_test)))"
     ],
     "language": "python",
     "metadata": {},
     "outputs": [
      {
       "metadata": {},
       "output_type": "pyout",
       "prompt_number": 55,
       "text": [
        "5.147532520693155"
       ]
      }
     ],
     "prompt_number": 55
    },
    {
     "cell_type": "code",
     "collapsed": false,
     "input": [
      "r2_score(y_test, clfB.predict(X_test))"
     ],
     "language": "python",
     "metadata": {},
     "outputs": [
      {
       "metadata": {},
       "output_type": "pyout",
       "prompt_number": 56,
       "text": [
        "-0.0016143502018217681"
       ]
      }
     ],
     "prompt_number": 56
    },
    {
     "cell_type": "code",
     "collapsed": false,
     "input": [
      "math.sqrt(mean_squared_error(y_test, clfB.predict(X_test)))"
     ],
     "language": "python",
     "metadata": {},
     "outputs": [
      {
       "metadata": {},
       "output_type": "pyout",
       "prompt_number": 58,
       "text": [
        "8.885643286022939"
       ]
      }
     ],
     "prompt_number": 58
    },
    {
     "cell_type": "code",
     "collapsed": false,
     "input": [],
     "language": "python",
     "metadata": {},
     "outputs": []
    }
   ],
   "metadata": {}
  }
 ]
}